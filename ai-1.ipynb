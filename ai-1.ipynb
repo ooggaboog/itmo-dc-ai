{
  "nbformat": 4,
  "nbformat_minor": 0,
  "metadata": {
    "kernelspec": {
      "display_name": "Python 3.6",
      "language": "python",
      "name": "python36"
    },
    "language_info": {
      "codemirror_mode": {
        "name": "ipython",
        "version": 3
      },
      "file_extension": ".py",
      "mimetype": "text/x-python",
      "name": "python",
      "nbconvert_exporter": "python",
      "pygments_lexer": "ipython3",
      "version": "3.6.6"
    },
    "colab": {
      "provenance": []
    }
  },
  "cells": [
    {
      "cell_type": "markdown",
      "metadata": {
        "id": "ZNP3DTIbs2Yw"
      },
      "source": [
        "Установка необходимых библиотек"
      ]
    },
    {
      "cell_type": "code",
      "metadata": {
        "id": "Vetqp0TQqonS",
        "colab": {
          "base_uri": "https://localhost:8080/"
        },
        "outputId": "4585edce-c027-40ab-ea69-e6208ada1d86"
      },
      "source": [
        "!pip install -q SpeechRecognition==3.8.1\n",
        "!pip install -q pocketsphinx==5.0.0"
      ],
      "execution_count": 1,
      "outputs": [
        {
          "output_type": "stream",
          "name": "stdout",
          "text": [
            "\u001b[2K   \u001b[90m━━━━━━━━━━━━━━━━━━━━━━━━━━━━━━━━━━━━━━━━\u001b[0m \u001b[32m32.8/32.8 MB\u001b[0m \u001b[31m44.0 MB/s\u001b[0m eta \u001b[36m0:00:00\u001b[0m\n",
            "\u001b[2K     \u001b[90m━━━━━━━━━━━━━━━━━━━━━━━━━━━━━━━━━━━━━━━━\u001b[0m \u001b[32m33.9/33.9 MB\u001b[0m \u001b[31m8.0 MB/s\u001b[0m eta \u001b[36m0:00:00\u001b[0m\n",
            "\u001b[?25h  Installing build dependencies ... \u001b[?25l\u001b[?25hdone\n",
            "  Getting requirements to build wheel ... \u001b[?25l\u001b[?25hdone\n",
            "  Preparing metadata (pyproject.toml) ... \u001b[?25l\u001b[?25hdone\n",
            "  Building wheel for pocketsphinx (pyproject.toml) ... \u001b[?25l\u001b[?25hdone\n"
          ]
        }
      ]
    },
    {
      "cell_type": "markdown",
      "metadata": {
        "id": "45vHeCFfqone"
      },
      "source": [
        "Подключение библиотеки"
      ]
    },
    {
      "cell_type": "code",
      "metadata": {
        "id": "6SH2matOqong"
      },
      "source": [
        "import speech_recognition as sr"
      ],
      "execution_count": 2,
      "outputs": []
    },
    {
      "cell_type": "markdown",
      "source": [
        "Загрузка звукового файла по прямой ссылке:"
      ],
      "metadata": {
        "id": "jkamACZxtwOG"
      }
    },
    {
      "cell_type": "code",
      "source": [
        "!wget http://storage.yandexcloud.net/lms-itmo-ru-files-27a87tyf/applied_ai/tasks/sound/wav/59.wav"
      ],
      "metadata": {
        "colab": {
          "base_uri": "https://localhost:8080/"
        },
        "id": "8E0Yo5Xqtvkx",
        "outputId": "85ce03a3-3cab-4340-acf6-1d9432f1447a"
      },
      "execution_count": 3,
      "outputs": [
        {
          "output_type": "stream",
          "name": "stdout",
          "text": [
            "--2025-02-14 09:43:10--  http://storage.yandexcloud.net/lms-itmo-ru-files-27a87tyf/applied_ai/tasks/sound/wav/59.wav\n",
            "Resolving storage.yandexcloud.net (storage.yandexcloud.net)... 213.180.193.243, 2a02:6b8::1d9\n",
            "Connecting to storage.yandexcloud.net (storage.yandexcloud.net)|213.180.193.243|:80... connected.\n",
            "HTTP request sent, awaiting response... 200 OK\n",
            "Length: 90156 (88K) [audio/x-wav]\n",
            "Saving to: ‘59.wav’\n",
            "\n",
            "59.wav              100%[===================>]  88.04K   172KB/s    in 0.5s    \n",
            "\n",
            "2025-02-14 09:43:12 (172 KB/s) - ‘59.wav’ saved [90156/90156]\n",
            "\n"
          ]
        }
      ]
    },
    {
      "cell_type": "markdown",
      "metadata": {
        "id": "MBSQMDVmqonn"
      },
      "source": [
        "Довольно простой код для распознавания звуковых файлов и обработки возможных ошибок:"
      ]
    },
    {
      "cell_type": "code",
      "metadata": {
        "id": "uU6kwHlPqonp",
        "colab": {
          "base_uri": "https://localhost:8080/"
        },
        "outputId": "48a69dcc-a844-417f-acbb-3d1213ebfbd5"
      },
      "source": [
        "# Имя файла, который требуется распознать\n",
        "AUDIO_FILE = '59.wav' # задаем имя файла аудио, который будет распознаваться\n",
        "\n",
        "# Чтение файла\n",
        "r = sr.Recognizer() # cоздание объекта Recognizer, который будет использоваться для обработки аудиофайла\n",
        "with sr.AudioFile(AUDIO_FILE) as source: # открытие аудиофайла\n",
        "    audio = r.record(source) # считываем содержимое аудиофайла с помощью Recognizer\n",
        "\n",
        "# Распознавание с помощью Sphinx\n",
        "try:\n",
        "    print(\"Результат Sphinx: \" + r.recognize_sphinx(audio))\n",
        "except sr.UnknownValueError:\n",
        "    print(\"Ошибка: Sphinx could not understand audio\")\n",
        "except sr.RequestError as e:\n",
        "    print(\"Ошибка: Sphinx error; {0}\".format(e))\n"
      ],
      "execution_count": 4,
      "outputs": [
        {
          "output_type": "stream",
          "name": "stdout",
          "text": [
            "Результат Sphinx: he knows which way the wind is blowing\n"
          ]
        }
      ]
    },
    {
      "cell_type": "markdown",
      "source": [
        "Поработаем с другими аудиофайлами:"
      ],
      "metadata": {
        "id": "PBrAPLIX3P2o"
      }
    },
    {
      "cell_type": "code",
      "source": [
        "!wget http://storage.yandexcloud.net/lms-itmo-ru-files-27a87tyf/applied_ai/tasks/sound/wav/26.wav\n",
        "\n",
        "AUDIO_FILE = '26.wav'\n",
        "\n",
        "r = sr.Recognizer()\n",
        "with sr.AudioFile(AUDIO_FILE) as source:\n",
        "  audio = r.record(source)\n",
        "\n",
        "try:\n",
        "    print(\"Результат Sphinx: \" + r.recognize_sphinx(audio))\n",
        "except sr.UnknownValueError:\n",
        "    print(\"Ошибка: Sphinx could not understand audio\")\n",
        "except sr.RequestError as e:\n",
        "    print(\"Ошибка: Sphinx error; {0}\".format(e))"
      ],
      "metadata": {
        "id": "GZGKh7FPuERu",
        "colab": {
          "base_uri": "https://localhost:8080/"
        },
        "outputId": "47613439-4a74-4002-8383-12ad524566b7"
      },
      "execution_count": 5,
      "outputs": [
        {
          "output_type": "stream",
          "name": "stdout",
          "text": [
            "--2025-02-14 09:53:27--  http://storage.yandexcloud.net/lms-itmo-ru-files-27a87tyf/applied_ai/tasks/sound/wav/26.wav\n",
            "Resolving storage.yandexcloud.net (storage.yandexcloud.net)... 213.180.193.243, 2a02:6b8::1d9\n",
            "Connecting to storage.yandexcloud.net (storage.yandexcloud.net)|213.180.193.243|:80... connected.\n",
            "HTTP request sent, awaiting response... 200 OK\n",
            "Length: 741198 (724K) [audio/x-wav]\n",
            "Saving to: ‘26.wav’\n",
            "\n",
            "26.wav              100%[===================>] 723.83K   665KB/s    in 1.1s    \n",
            "\n",
            "2025-02-14 09:53:29 (665 KB/s) - ‘26.wav’ saved [741198/741198]\n",
            "\n",
            "Результат Sphinx: would you rushed forward forward\n"
          ]
        }
      ]
    },
    {
      "cell_type": "code",
      "source": [
        "!wget http://storage.yandexcloud.net/lms-itmo-ru-files-27a87tyf/applied_ai/tasks/sound/wav/78.wav\n",
        "\n",
        "AUDIO_FILE = '78.wav'\n",
        "\n",
        "r = sr.Recognizer()\n",
        "with sr.AudioFile(AUDIO_FILE) as source:\n",
        "  audio = r.record(source)\n",
        "\n",
        "try:\n",
        "    print(\"Результат Sphinx: \" + r.recognize_sphinx(audio))\n",
        "except sr.UnknownValueError:\n",
        "    print(\"Ошибка: Sphinx could not understand audio\")\n",
        "except sr.RequestError as e:\n",
        "    print(\"Ошибка: Sphinx error; {0}\".format(e))"
      ],
      "metadata": {
        "colab": {
          "base_uri": "https://localhost:8080/"
        },
        "id": "qNxljtz94R8I",
        "outputId": "fd8bcf3a-2ac8-4a53-f13b-f9359c30e60d"
      },
      "execution_count": 6,
      "outputs": [
        {
          "output_type": "stream",
          "name": "stdout",
          "text": [
            "--2025-02-14 09:54:11--  http://storage.yandexcloud.net/lms-itmo-ru-files-27a87tyf/applied_ai/tasks/sound/wav/78.wav\n",
            "Resolving storage.yandexcloud.net (storage.yandexcloud.net)... 213.180.193.243, 2a02:6b8::1d9\n",
            "Connecting to storage.yandexcloud.net (storage.yandexcloud.net)|213.180.193.243|:80... connected.\n",
            "HTTP request sent, awaiting response... 200 OK\n",
            "Length: 601934 (588K) [audio/x-wav]\n",
            "Saving to: ‘78.wav’\n",
            "\n",
            "78.wav              100%[===================>] 587.83K   567KB/s    in 1.0s    \n",
            "\n",
            "2025-02-14 09:54:12 (567 KB/s) - ‘78.wav’ saved [601934/601934]\n",
            "\n",
            "Результат Sphinx: don't go to all your face in one basket\n"
          ]
        }
      ]
    },
    {
      "cell_type": "code",
      "source": [
        "!wget http://storage.yandexcloud.net/lms-itmo-ru-files-27a87tyf/applied_ai/tasks/sound/wav/10.wav\n",
        "\n",
        "AUDIO_FILE = '10.wav'\n",
        "\n",
        "r = sr.Recognizer()\n",
        "with sr.AudioFile(AUDIO_FILE) as source:\n",
        "  audio = r.record(source)\n",
        "\n",
        "try:\n",
        "    print(\"Результат Sphinx: \" + r.recognize_sphinx(audio))\n",
        "except sr.UnknownValueError:\n",
        "    print(\"Ошибка: Sphinx could not understand audio\")\n",
        "except sr.RequestError as e:\n",
        "    print(\"Ошибка: Sphinx error; {0}\".format(e))"
      ],
      "metadata": {
        "colab": {
          "base_uri": "https://localhost:8080/"
        },
        "id": "I-1Xq7-44lU_",
        "outputId": "cbd996a8-fedb-47e6-a531-27b646efc46d"
      },
      "execution_count": 7,
      "outputs": [
        {
          "output_type": "stream",
          "name": "stdout",
          "text": [
            "--2025-02-14 09:55:32--  http://storage.yandexcloud.net/lms-itmo-ru-files-27a87tyf/applied_ai/tasks/sound/wav/10.wav\n",
            "Resolving storage.yandexcloud.net (storage.yandexcloud.net)... 213.180.193.243, 2a02:6b8::1d9\n",
            "Connecting to storage.yandexcloud.net (storage.yandexcloud.net)|213.180.193.243|:80... connected.\n",
            "HTTP request sent, awaiting response... 200 OK\n",
            "Length: 556878 (544K) [audio/x-wav]\n",
            "Saving to: ‘10.wav’\n",
            "\n",
            "10.wav              100%[===================>] 543.83K   512KB/s    in 1.1s    \n",
            "\n",
            "2025-02-14 09:55:34 (512 KB/s) - ‘10.wav’ saved [556878/556878]\n",
            "\n",
            "Результат Sphinx: actions speak louder than words\n"
          ]
        }
      ]
    },
    {
      "cell_type": "code",
      "source": [
        "!wget http://storage.yandexcloud.net/lms-itmo-ru-files-27a87tyf/applied_ai/tasks/sound/wav/4.wav\n",
        "\n",
        "AUDIO_FILE = '4.wav'\n",
        "\n",
        "r = sr.Recognizer()\n",
        "with sr.AudioFile(AUDIO_FILE) as source:\n",
        "  audio = r.record(source)\n",
        "\n",
        "try:\n",
        "    print(\"Результат Sphinx: \" + r.recognize_sphinx(audio))\n",
        "except sr.UnknownValueError:\n",
        "    print(\"Ошибка: Sphinx could not understand audio\")\n",
        "except sr.RequestError as e:\n",
        "    print(\"Ошибка: Sphinx error; {0}\".format(e))"
      ],
      "metadata": {
        "colab": {
          "base_uri": "https://localhost:8080/"
        },
        "id": "rooW1oe24wlk",
        "outputId": "38a0f5a2-ace9-49e3-f7fc-47f2f5ae5842"
      },
      "execution_count": 8,
      "outputs": [
        {
          "output_type": "stream",
          "name": "stdout",
          "text": [
            "--2025-02-14 09:56:21--  http://storage.yandexcloud.net/lms-itmo-ru-files-27a87tyf/applied_ai/tasks/sound/wav/4.wav\n",
            "Resolving storage.yandexcloud.net (storage.yandexcloud.net)... 213.180.193.243, 2a02:6b8::1d9\n",
            "Connecting to storage.yandexcloud.net (storage.yandexcloud.net)|213.180.193.243|:80... connected.\n",
            "HTTP request sent, awaiting response... 200 OK\n",
            "Length: 675662 (660K) [audio/x-wav]\n",
            "Saving to: ‘4.wav’\n",
            "\n",
            "4.wav               100%[===================>] 659.83K   476KB/s    in 1.4s    \n",
            "\n",
            "2025-02-14 09:56:23 (476 KB/s) - ‘4.wav’ saved [675662/675662]\n",
            "\n",
            "Результат Sphinx: take it with a grain of salt\n"
          ]
        }
      ]
    }
  ]
}